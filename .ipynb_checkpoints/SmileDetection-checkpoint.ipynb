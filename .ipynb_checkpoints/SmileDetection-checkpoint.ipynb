{
 "cells": [
  {
   "cell_type": "code",
   "execution_count": 1,
   "id": "literary-radius",
   "metadata": {},
   "outputs": [],
   "source": [
    "from fastai.vision.all import *\n",
    "from fastai.vision.widgets import *"
   ]
  },
  {
   "cell_type": "code",
   "execution_count": 2,
   "id": "grave-rubber",
   "metadata": {},
   "outputs": [],
   "source": [
    "def label_func(fname):\n",
    "  x = re.findall(r'([1-9]\\d*)', fname.name)\n",
    "  if int(x[0]) > 2163:\n",
    "    return '0'\n",
    "  else:\n",
    "    return '1'\n",
    "learn_inf = load_learner('export.pkl' )\n",
    "btn_upload = widgets.FileUpload()\n",
    "out_pl = widgets.Output()\n",
    "lbl_pred = widgets.Label()"
   ]
  },
  {
   "cell_type": "code",
   "execution_count": 3,
   "id": "rocky-choir",
   "metadata": {},
   "outputs": [],
   "source": [
    "def on_click(change):\n",
    "    img = PILImage.create(btn_upload.data[-1])\n",
    "    out_pl.clear_output()\n",
    "    with out_pl: display(img.to_thumb(128,128))\n",
    "    pred,pred_idx,probs = learn_inf.predict(img)\n",
    "    if pred=='1':\n",
    "        output = 'Oo. Smiling face'\n",
    "    else:\n",
    "        output = 'No. Not smiling face'\n",
    "        \n",
    "    lbl_pred.value = f'Prediction: {output}; Probability: {probs[pred_idx]:.04f}'"
   ]
  },
  {
   "cell_type": "markdown",
   "id": "worse-idaho",
   "metadata": {},
   "source": [
    "# Smile Detection \n",
    "## Arman Zhumakhan's pet project\n",
    "\n",
    "### It's motivated by [FastAI](https://course.fast.ai/)  and Jeremy Howard after watching his course \"Practical Deep Learning for Coders\""
   ]
  },
  {
   "cell_type": "markdown",
   "id": "apart-section",
   "metadata": {},
   "source": [
    "### [My LinkedIn page](https://www.linkedin.com/in/arman-zhumakhan/)\n"
   ]
  },
  {
   "cell_type": "code",
   "execution_count": null,
   "id": "round-pantyhose",
   "metadata": {},
   "outputs": [],
   "source": [
    "btn_upload.observe(on_click, names=['data'])\n",
    "display(VBox([widgets.Label('Upload your happy or upset photo!'), \n",
    "              widgets.Label('Then my model will tell you are happy or not on the photo'), \n",
    "              btn_upload, \n",
    "              out_pl, \n",
    "              lbl_pred,\n",
    "             ]))"
   ]
  }
 ],
 "metadata": {
  "kernelspec": {
   "display_name": "Python 3",
   "language": "python",
   "name": "python3"
  },
  "language_info": {
   "codemirror_mode": {
    "name": "ipython",
    "version": 3
   },
   "file_extension": ".py",
   "mimetype": "text/x-python",
   "name": "python",
   "nbconvert_exporter": "python",
   "pygments_lexer": "ipython3",
   "version": "3.7.7"
  }
 },
 "nbformat": 4,
 "nbformat_minor": 5
}
